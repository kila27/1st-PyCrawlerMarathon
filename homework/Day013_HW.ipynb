{
 "cells": [
  {
   "cell_type": "markdown",
   "metadata": {},
   "source": [
    "# PTT 網路爬蟲實作練習\n",
    "\n",
    "\n",
    "* 能夠利用 Request + BeatifulSour 撰寫爬蟲，並存放到合適的資料結構\n"
   ]
  },
  {
   "cell_type": "markdown",
   "metadata": {},
   "source": [
    "## 作業目標\n",
    "\n",
    "根據範例 ，完成以下問題：\n",
    "\n",
    "* ① 印出最新文章的「作者」「標題」「時間」\n",
    "* ② 印出第一頁所有文章的「作者」「標題」「時間」\n"
   ]
  },
  {
   "cell_type": "markdown",
   "metadata": {},
   "source": [
    "### ① 印出最新文章的「作者」「標題」「時間」"
   ]
  },
  {
   "cell_type": "code",
   "execution_count": 1,
   "metadata": {},
   "outputs": [
    {
     "name": "stdout",
     "output_type": "stream",
     "text": [
      "標題 : [外絮] Jared Dudley：你必須為你的隊友站出來\n",
      "作者 : JaredDudley (Jared Dudley)\n",
      "時間 : Thu Dec 12 18:23:50 2019\n",
      "標題 : [外絮] DLO或許有機會到明尼蘇達結伴KAT\n",
      "作者 : moneiescat (moneiescat)\n",
      "時間 : Thu Dec 12 18:37:18 2019\n",
      "標題 : [討論] 有沒有跟裁判argue成功的案例？\n",
      "作者 : XXXXPOXXXX (彈跳甲魚湯)\n",
      "時間 : Thu Dec 12 19:13:16 2019\n",
      "標題 : [花邊] 湖人客場12連勝  詹姆斯：還有提升空間\n",
      "作者 : thnlkj0665 (灰色地帶)\n",
      "時間 : Thu Dec 12 19:39:21 2019\n",
      "標題 : [討論] 林書豪還有機會回到NBA嗎？\n",
      "作者 : a3356140a (優遊自在)\n",
      "時間 : Thu Dec 12 19:40:17 2019\n",
      "標題 : (本文已被刪除) [Muma5566]\n",
      "標題 : [新聞]Jaylen Brown:如果我沒有六犯離場，或許\n",
      "作者 : Muma5566 (木馬56)\n",
      "時間 : Thu Dec 12 19:46:31 2019\n",
      "標題 : [花邊] 巨神兵 Boban with 墨西哥美女\n",
      "作者 : Aotearoa (長白雲之鄉)\n",
      "時間 : Thu Dec 12 20:05:07 2019\n",
      "標題 : [情報] Ball:投籃姿勢調整幫助提升出手自信、提\n",
      "作者 : VeryGoodBoy (很棒的男孩)\n",
      "時間 : Thu Dec 12 20:09:32 2019\n",
      "標題 : [公告] 板規v6.6\n",
      "標題 : [公告] 樂透取消及未來不再開啟樂透\n",
      "作者 : Vedan (味丹)\n",
      "時間 : Mon Jun 24 15:08:02 2019\n",
      "標題 : [公告] 版主上任相關事項 \n",
      "作者 : qazwsx879345 (Rajon Rondo)\n",
      "時間 : Fri Oct 25 10:44:03 2019\n",
      "標題 : [情報] SEASON Schedule 賽程 December 19–20\n",
      "作者 : JerroLi (銀色小刀)\n",
      "時間 : Fri Nov 29 00:46:01 2019\n",
      "標題 : [公告]是否禁止basketball top 5文章投票開始 \n",
      "作者 : dragon803 (好想去露營啊~)\n",
      "時間 : Sun Dec  8 23:55:00 2019\n"
     ]
    }
   ],
   "source": [
    "import requests\n",
    "from bs4 import BeautifulSoup\n",
    "\n",
    "url = 'https://www.ptt.cc/bbs/NBA/index.html'\n",
    "r = requests.get(url)\n",
    "\n",
    "soup = BeautifulSoup(r.text, \"html5lib\")\n",
    "\n",
    "for d in soup.find_all(class_=\"title\"):\n",
    "    print('標題 :',d.text.replace('\\t', '').replace('\\n', ''))\n",
    "    try:\n",
    "        r = BeautifulSoup(requests.get('https://www.ptt.cc'+d.find('a')['href']).text, \"html5lib\")\n",
    "        \n",
    "        print('作者 : ' + r.find(class_='article-meta-value').text)\n",
    "        print('時間 : ' + r.find_all(class_='article-meta-value')[3].text)\n",
    "       \n",
    "            \n",
    "    except:\n",
    "        continue"
   ]
  },
  {
   "cell_type": "markdown",
   "metadata": {},
   "source": [
    "### ② 印出第一頁所有文章的「作者」「標題」「時間」"
   ]
  },
  {
   "cell_type": "code",
   "execution_count": null,
   "metadata": {},
   "outputs": [],
   "source": [
    "'''\n",
    "Your Code\n",
    "'''"
   ]
  },
  {
   "cell_type": "markdown",
   "metadata": {},
   "source": [
    "### ③ 試著爬爬看其他版的文章"
   ]
  },
  {
   "cell_type": "code",
   "execution_count": 2,
   "metadata": {},
   "outputs": [
    {
     "name": "stdout",
     "output_type": "stream",
     "text": [
      "/bbs/MobileComm/M.1576148712.A.005.html [問機] 一萬買SONY 當季中階/過季旗艦\n",
      "/bbs/MobileComm/M.1576149716.A.7B5.html [心得] Google Nest Mini開箱（含影片）\n",
      "/bbs/MobileComm/M.1576151606.A.AAE.html Re: [情報] 陸版紅米K20p 8+512 只要2399元。\n",
      "/bbs/MobileComm/M.1576151971.A.D54.html Re: [情報] 陸版紅米K20p 8+512 只要2399元。\n",
      "/bbs/MobileComm/M.1576152350.A.A52.html [問題] 安卓 sony xperia 5 設定的問題\n",
      "/bbs/MobileComm/M.1576152508.A.75B.html [問題] s10+ 網路問題\n",
      "/bbs/MobileComm/M.1534272593.A.93B.html [情報] 3G要斷訊了? 3G執照到期相關情報整理\n",
      "/bbs/MobileComm/M.1565974783.A.1BF.html [公告] MobileComm板規 20190728版\n",
      "/bbs/MobileComm/M.1572791641.A.A0C.html Re: [閒聊] 置底閒聊文\n",
      "/bbs/MobileComm/M.1573570304.A.110.html [閒聊] 各種價位的手機/平板列表(2019/11/12)\n",
      "/bbs/MobileComm/M.1574602227.A.4C2.html Fw: [公告] 請使用安全的連線方式連線本站\n"
     ]
    }
   ],
   "source": [
    "import requests\n",
    "from bs4 import BeautifulSoup\n",
    "\n",
    "result = requests.get(\"https://www.ptt.cc/bbs/MobileComm/index.html\")\n",
    "\n",
    "soup = BeautifulSoup(result.text,\"html.parser\")\n",
    "sel = soup.select(\"div.title a\")\n",
    "\n",
    "for s in sel:\n",
    "    print(s[\"href\"], s.text)"
   ]
  },
  {
   "cell_type": "code",
   "execution_count": null,
   "metadata": {},
   "outputs": [],
   "source": []
  }
 ],
 "metadata": {
  "kernelspec": {
   "display_name": "Python 3",
   "language": "python",
   "name": "python3"
  },
  "language_info": {
   "codemirror_mode": {
    "name": "ipython",
    "version": 3
   },
   "file_extension": ".py",
   "mimetype": "text/x-python",
   "name": "python",
   "nbconvert_exporter": "python",
   "pygments_lexer": "ipython3",
   "version": "3.7.3"
  }
 },
 "nbformat": 4,
 "nbformat_minor": 2
}
