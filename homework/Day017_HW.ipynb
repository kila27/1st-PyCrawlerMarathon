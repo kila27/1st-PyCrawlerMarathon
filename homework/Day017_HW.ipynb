{
 "cells": [
  {
   "cell_type": "markdown",
   "metadata": {},
   "source": [
    "# HTTP 動態網頁架構說明\n",
    "\n",
    "\n",
    "* 了解動態網頁的資料爬蟲策略\n",
    "* 知道非同步網頁載入機制（Ajax）\n",
    "* 學習兩種對應動態網頁爬蟲的的策略\n"
   ]
  },
  {
   "cell_type": "markdown",
   "metadata": {},
   "source": [
    "## 作業目標\n",
    "\n",
    "回答以下問題：\n",
    "\n",
    "1. 動態網頁跟靜態網頁的差別是什麼？原本靜態網頁的做法會產生什麼問題或是缺點？\n",
    "2. 還記得我們在 ETTODAY 靜態爬蟲實作練習中，有請大家完成一個題目「取出今天所有的發文」，但仔細看其實並沒有真的把當天所有的新聞都抓回來， 試著回答看看原因是什麼？及該如何檢查？\n"
   ]
  },
  {
   "cell_type": "markdown",
   "metadata": {},
   "source": [
    "### 1. 動態網頁跟靜態網頁的差別是什麼？原本靜態網頁的做法會產生什麼問題或是缺點？"
   ]
  },
  {
   "cell_type": "markdown",
   "metadata": {},
   "source": [
    "##\n",
    "動態網⾴有別於靜態網⾴產⽣資料的⽅式。靜態網⾴是透過每⼀次使\n",
    "⽤者請求，後端會產⽣⼀次網⾴回傳，所以請求與回傳是⼀對⼀的，\n",
    "有些⼈把他們稱為同步。\n",
    "在動態網⾴的話，是透過 Ajax 的技術，來完\n",
    "成非同步的資料傳輸。換句話說，就是在網⾴上，任何時間點都可以\n",
    "發送請求給後端，後端只回傳資料，⽽不是回傳整個網⾴。"
   ]
  },
  {
   "cell_type": "markdown",
   "metadata": {},
   "source": [
    "### 2. 還記得我們在 ETTODAY 靜態爬蟲實作練習中，有請大家完成一個題目「取出今天所有的發文」，但仔細看其實並沒有真的把當天所有的新聞都抓回來， 試著回答看看原因是什麼？及該如何檢查？"
   ]
  },
  {
   "cell_type": "markdown",
   "metadata": {},
   "source": [
    "動態網⾴必須藉由 JavaScript 在第⼀次 Request 後，再動態載入更\n",
    "多的資料。因此，依據過去傳統的 HTTP ⼀來⼀回的機制，會找不到\n",
    "時機點執⾏動態的 Request 更新。"
   ]
  },
  {
   "cell_type": "code",
   "execution_count": null,
   "metadata": {},
   "outputs": [],
   "source": []
  },
  {
   "cell_type": "code",
   "execution_count": null,
   "metadata": {},
   "outputs": [],
   "source": []
  }
 ],
 "metadata": {
  "kernelspec": {
   "display_name": "Python 3",
   "language": "python",
   "name": "python3"
  },
  "language_info": {
   "codemirror_mode": {
    "name": "ipython",
    "version": 3
   },
   "file_extension": ".py",
   "mimetype": "text/x-python",
   "name": "python",
   "nbconvert_exporter": "python",
   "pygments_lexer": "ipython3",
   "version": "3.7.3"
  }
 },
 "nbformat": 4,
 "nbformat_minor": 2
}
