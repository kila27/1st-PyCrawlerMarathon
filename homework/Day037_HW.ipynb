{
 "cells": [
  {
   "cell_type": "markdown",
   "metadata": {},
   "source": [
    "# 自動化更新機制\n",
    "\n",
    "\n",
    "* 如何定期執行爬蟲程式\n",
    "* 更新時需要注意的事情是什麼？\n"
   ]
  },
  {
   "cell_type": "markdown",
   "metadata": {},
   "source": [
    "## 作業目標\n",
    "\n",
    "* 列舉一個是需要用自動化更新的機制來達成的爬蟲應用。"
   ]
  },
  {
   "cell_type": "code",
   "execution_count": 6,
   "metadata": {},
   "outputs": [
    {
     "name": "stdout",
     "output_type": "stream",
     "text": [
      "2020-01-18 00:07:53\n",
      "2020-01-18 00:07:55\n",
      "2020-01-18 00:07:57\n",
      "2020-01-18 00:07:59\n",
      "2020-01-18 00:08:01\n"
     ]
    }
   ],
   "source": [
    "import time\n",
    "\n",
    "def timer(n):\n",
    "    print(time.strftime('%Y-%m-%d %X', time.locatione()))\n",
    "    return\n",
    "\n",
    "count = 0\n",
    "while True:\n",
    "    print(time.strftime('%Y-%m-%d %X', time.localtime()))  \n",
    "    time.sleep(2)\n",
    "    count += 1\n",
    "    if count >=5:\n",
    "        break"
   ]
  },
  {
   "cell_type": "code",
   "execution_count": null,
   "metadata": {},
   "outputs": [],
   "source": []
  }
 ],
 "metadata": {
  "colab": {
   "name": "homework.ipynb",
   "provenance": []
  },
  "kernelspec": {
   "display_name": "Python 3",
   "language": "python",
   "name": "python3"
  },
  "language_info": {
   "codemirror_mode": {
    "name": "ipython",
    "version": 3
   },
   "file_extension": ".py",
   "mimetype": "text/x-python",
   "name": "python",
   "nbconvert_exporter": "python",
   "pygments_lexer": "ipython3",
   "version": "3.7.3"
  }
 },
 "nbformat": 4,
 "nbformat_minor": 1
}
